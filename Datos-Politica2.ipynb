{
 "cells": [
  {
   "cell_type": "code",
   "execution_count": 1,
   "metadata": {},
   "outputs": [
    {
     "name": "stderr",
     "output_type": "stream",
     "text": [
      "/usr/lib/python3.5/importlib/_bootstrap.py:222: RuntimeWarning: numpy.dtype size changed, may indicate binary incompatibility. Expected 96, got 88\n",
      "  return f(*args, **kwds)\n",
      "/usr/lib/python3.5/importlib/_bootstrap.py:222: RuntimeWarning: numpy.dtype size changed, may indicate binary incompatibility. Expected 96, got 88\n",
      "  return f(*args, **kwds)\n"
     ]
    },
    {
     "name": "stdout",
     "output_type": "stream",
     "text": [
      "Populating the interactive namespace from numpy and matplotlib\n"
     ]
    }
   ],
   "source": [
    "import soil\n",
    "import networkx as nx\n",
    "import numpy\n",
    "%pylab inline\n",
    "\n",
    "from soil import *\n",
    "%load_ext autoreload\n",
    "%autoreload 2\n",
    "import pandas as pd\n",
    "import seaborn as sbn\n",
    "\n",
    "sbn.set_context(\"talk\", font_scale=1)"
   ]
  },
  {
   "cell_type": "code",
   "execution_count": 2,
   "metadata": {},
   "outputs": [],
   "source": [
    "data = analysis.read_csv('soil_output/Malasana_politica2/Malasana_politica2_trial_0.environment.csv', keys=None, convert_types=False)\n",
    "data_fights = data['num_of_fights']\n",
    "data_drunk = data['drunk']\n",
    "ages = data['age']\n",
    "genders = data ['gender']\n",
    "data_intoxicate = data['intoxicated']"
   ]
  },
  {
   "cell_type": "markdown",
   "metadata": {},
   "source": [
    "# FIGHTS\n",
    "#### - Fights per step\n",
    "#### - Percentage of fights per gender\n",
    "#### - Percentage of fights per age\n"
   ]
  },
  {
   "cell_type": "code",
   "execution_count": 3,
   "metadata": {},
   "outputs": [
    {
     "name": "stdout",
     "output_type": "stream",
     "text": [
      "[0, 0, 0, 1, 2, 4, 11, 16, 16, 17, 19, 19, 19, 21, 21, 22, 23, 23, 23, 23, 25, 25, 25, 25, 25, 25, 25, 25, 25, 25, 25, 25, 25, 25, 25, 25, 25, 25]\n"
     ]
    }
   ],
   "source": [
    "fights_step = []\n",
    "\n",
    "for index, row in data_fights.iterrows(): \n",
    "    n=0\n",
    "    for column in data_fights:\n",
    "        if row[column] == '1':\n",
    "            n+=0.5\n",
    "    fights_step.insert(index,int(n))\n",
    "\n",
    "for inte in range(len(fights_step),38):\n",
    "    fights_step.insert(inte, fights_step[len(fights_step)-1])\n",
    "\n",
    "num_fights = fights_step[37]\n",
    "\n",
    "print(fights_step)"
   ]
  },
  {
   "cell_type": "code",
   "execution_count": 4,
   "metadata": {},
   "outputs": [],
   "source": [
    "fights_step_df = pd.DataFrame(fights_step, columns = ['Num_fights']) "
   ]
  },
  {
   "cell_type": "code",
   "execution_count": 5,
   "metadata": {},
   "outputs": [
    {
     "data": {
      "image/png": "[encoded data removed]",
      "text/plain": [
       "<Figure size 1440x576 with 1 Axes>"
      ]
     },
     "metadata": {},
     "output_type": "display_data"
    },
    {
     "data": {
      "text/plain": [
       "<Figure size 432x288 with 0 Axes>"
      ]
     },
     "metadata": {},
     "output_type": "display_data"
    }
   ],
   "source": [
    "fig = fights_step_df.plot(figsize=[20,8], grid=True)\n",
    "major_ticks_x = np.arange(0, 38, 1)\n",
    "major_ticks_y = np.arange(0, num_fights+2, 5)\n",
    "fig.set_xticks(major_ticks_x)\n",
    "fig.set_yticks(major_ticks_y)\n",
    "fig = plt.figure()"
   ]
  },
  {
   "cell_type": "code",
   "execution_count": 6,
   "metadata": {},
   "outputs": [
    {
     "name": "stdout",
     "output_type": "stream",
     "text": [
      "[62.0, 38.0]\n"
     ]
    }
   ],
   "source": [
    "genders_step_0 = []\n",
    "genders_fight = [0,0]\n",
    "\n",
    "for column in genders:\n",
    "    for index, row in genders.iterrows():\n",
    "        genders_step_0.append(row[column])\n",
    "        break\n",
    " \n",
    "for column in data_fights:\n",
    "    for index, row in data_fights.iterrows():\n",
    "        if row[column]=='1':\n",
    "            if genders_step_0[int(column)]=='male':\n",
    "                genders_fight[0]=genders_fight[0]+1\n",
    "            else:\n",
    "                genders_fight[1]=genders_fight[1]+1\n",
    "            break\n",
    "          \n",
    "tot = 0\n",
    "for index in range(len(genders_fight)):\n",
    "    tot += genders_fight[index]\n",
    "    \n",
    "\n",
    "for index in range(len(genders_fight)):\n",
    "    genders_fight[index] = round((genders_fight[index]/tot)*100,2)\n",
    "print(genders_fight)\n"
   ]
  },
  {
   "cell_type": "code",
   "execution_count": 7,
   "metadata": {},
   "outputs": [
    {
     "name": "stdout",
     "output_type": "stream",
     "text": [
      "[32.0, 48.0, 20.0]\n"
     ]
    }
   ],
   "source": [
    "ages_step_0 = []\n",
    "ages_fight = [0,0,0]\n",
    "\n",
    "for column in ages:\n",
    "    for index, row in ages.iterrows():\n",
    "        ages_step_0.append(row[column])\n",
    "        break\n",
    " \n",
    "\n",
    "    \n",
    "\n",
    "for column in data_fights:\n",
    "    for index, row in data_fights.iterrows():\n",
    "        if row[column]=='1':\n",
    "            if ages_step_0[int(column)]=='15':\n",
    "                ages_fight[0]=ages_fight[0]+1\n",
    "            elif ages_step_0[int(column)]=='20':\n",
    "                ages_fight[1]=ages_fight[1]+1\n",
    "            else:\n",
    "                ages_fight[2]=ages_fight[2]+1\n",
    "         \n",
    "            break\n",
    "          \n",
    "            \n",
    "tot = 0\n",
    "for index in range(len(ages_fight)):\n",
    "    tot += ages_fight[index]\n",
    "    \n",
    "for index in range(len(ages_fight)):\n",
    "    ages_fight[index] = round((ages_fight[index]/tot)*100,2)\n",
    "print(ages_fight)\n"
   ]
  },
  {
   "cell_type": "code",
   "execution_count": 8,
   "metadata": {},
   "outputs": [
    {
     "data": {
      "image/png": "[encoded data removed]",
      "text/plain": [
       "<Figure size 432x288 with 1 Axes>"
      ]
     },
     "metadata": {},
     "output_type": "display_data"
    }
   ],
   "source": [
    "bars = ('15-19', '20-24', '25-30')\n",
    "y_pos = np.arange(len(bars))\n",
    "plt.bar(y_pos, ages_fight, color=['red', 'blue', 'orange'])\n",
    "plt.xticks(y_pos, bars)\n",
    "plt.show()\n"
   ]
  },
  {
   "cell_type": "code",
   "execution_count": 9,
   "metadata": {},
   "outputs": [
    {
     "data": {
      "image/png": "[encoded data removed]",
      "text/plain": [
       "<Figure size 432x288 with 1 Axes>"
      ]
     },
     "metadata": {},
     "output_type": "display_data"
    }
   ],
   "source": [
    "bars = ('male', 'female')\n",
    "y_pos = np.arange(len(bars))\n",
    "plt.bar(y_pos, genders_fight, color=['orange', 'blue'])\n",
    "plt.xticks(y_pos, bars)\n",
    "plt.show()"
   ]
  },
  {
   "cell_type": "markdown",
   "metadata": {},
   "source": [
    "# DRUNKS\n",
    "#### Drunks per step\n",
    "#### Percentage of drunks per gender\n",
    "#### Percentage of drunks per age"
   ]
  },
  {
   "cell_type": "code",
   "execution_count": 10,
   "metadata": {},
   "outputs": [
    {
     "name": "stdout",
     "output_type": "stream",
     "text": [
      "[0, 0, 0, 0, 0, 5, 8, 10, 10, 14, 15, 15, 17, 18, 19, 21, 23, 23, 24, 24, 25, 25, 25, 25, 25, 25, 25, 25, 25, 25, 25, 25, 25, 25, 25, 25, 25, 25]\n"
     ]
    }
   ],
   "source": [
    "drunks_step = []\n",
    "\n",
    "for index, row in data_drunk.iterrows():\n",
    "    n=0\n",
    "    for column in data_drunk:\n",
    "        \n",
    "        if row[column] == 'True':\n",
    "            n+=1\n",
    "    \n",
    "    drunks_step.insert(index,int(n))\n",
    "    \n",
    "\n",
    "for inte in range(len(drunks_step),38):\n",
    "    drunks_step.insert(inte, drunks_step[len(drunks_step)-1])\n",
    "\n",
    "num_drunks = drunks_step[37]\n",
    "\n",
    "print(drunks_step)\n",
    "\n"
   ]
  },
  {
   "cell_type": "code",
   "execution_count": 11,
   "metadata": {},
   "outputs": [],
   "source": [
    "drunks_step_df = pd.DataFrame(drunks_step, columns = ['Num_drunks'])  "
   ]
  },
  {
   "cell_type": "code",
   "execution_count": 12,
   "metadata": {},
   "outputs": [
    {
     "data": {
      "image/png": "[encoded data removed]",
      "text/plain": [
       "<Figure size 1440x576 with 1 Axes>"
      ]
     },
     "metadata": {},
     "output_type": "display_data"
    },
    {
     "data": {
      "text/plain": [
       "<Figure size 432x288 with 0 Axes>"
      ]
     },
     "metadata": {},
     "output_type": "display_data"
    }
   ],
   "source": [
    "fig = drunks_step_df.plot(figsize=[20,8], grid=True)\n",
    "major_ticks_x = np.arange(0, 38, 1)\n",
    "major_ticks_y = np.arange(0, num_drunks+2, 5)\n",
    "fig.set_xticks(major_ticks_x)\n",
    "fig.set_yticks(major_ticks_y)\n",
    "fig = plt.figure()"
   ]
  },
  {
   "cell_type": "code",
   "execution_count": 13,
   "metadata": {},
   "outputs": [
    {
     "name": "stdout",
     "output_type": "stream",
     "text": [
      "[44.0, 56.0]\n"
     ]
    }
   ],
   "source": [
    "genders_step_0 = []\n",
    "genders_drunk = [0,0]\n",
    "\n",
    "for column in genders:\n",
    "    for index, row in genders.iterrows():\n",
    "        genders_step_0.append(row[column])\n",
    "        break\n",
    " \n",
    "for column in data_drunk:\n",
    "    for index, row in data_drunk.iterrows():\n",
    "        if row[column]=='True':\n",
    "            if genders_step_0[int(column)]=='male':\n",
    "                genders_drunk[0]=genders_drunk[0]+1\n",
    "            else:\n",
    "                genders_drunk[1]=genders_drunk[1]+1\n",
    "            break\n",
    "          \n",
    "tot = 0\n",
    "for index in range(len(genders_drunk)):\n",
    "    tot += genders_drunk[index]\n",
    "    \n",
    "\n",
    "for index in range(len(genders_drunk)):\n",
    "    genders_drunk[index] = round((genders_drunk[index]/tot)*100,2)\n",
    "print(genders_drunk)"
   ]
  },
  {
   "cell_type": "code",
   "execution_count": 14,
   "metadata": {},
   "outputs": [
    {
     "name": "stdout",
     "output_type": "stream",
     "text": [
      "[32.0, 36.0, 32.0]\n"
     ]
    }
   ],
   "source": [
    "ages_step_0 = []\n",
    "ages_drunk = [0,0,0]\n",
    "\n",
    "for column in ages:\n",
    "    for index, row in ages.iterrows():\n",
    "        ages_step_0.append(row[column])\n",
    "        break\n",
    " \n",
    "\n",
    "    \n",
    "\n",
    "for column in data_drunk:\n",
    "    for index, row in data_drunk.iterrows():\n",
    "        if row[column]=='True':\n",
    "            if ages_step_0[int(column)]=='15':\n",
    "                ages_drunk[0]=ages_drunk[0]+1\n",
    "            elif ages_step_0[int(column)]=='20':\n",
    "                ages_drunk[1]=ages_drunk[1]+1\n",
    "            else:\n",
    "                ages_drunk[2]=ages_drunk[2]+1\n",
    "         \n",
    "            break\n",
    "          \n",
    "            \n",
    "tot = 0\n",
    "for index in range(len(ages_drunk)):\n",
    "    tot += ages_drunk[index]\n",
    "    \n",
    "for index in range(len(ages_drunk)):\n",
    "    ages_drunk[index] = round((ages_drunk[index]/tot)*100,2)\n",
    "print(ages_drunk)"
   ]
  },
  {
   "cell_type": "code",
   "execution_count": 15,
   "metadata": {},
   "outputs": [
    {
     "data": {
      "image/png": "[encoded data removed]",
      "text/plain": [
       "<Figure size 432x288 with 1 Axes>"
      ]
     },
     "metadata": {},
     "output_type": "display_data"
    }
   ],
   "source": [
    "bars = ('15-19', '20-24', '25-30')\n",
    "y_pos = np.arange(len(bars))\n",
    "plt.bar(y_pos, ages_drunk, color=['red', 'blue', 'orange'])\n",
    "plt.xticks(y_pos, bars)\n",
    "plt.show()"
   ]
  },
  {
   "cell_type": "code",
   "execution_count": 16,
   "metadata": {},
   "outputs": [
    {
     "data": {
      "image/png": "[encoded data removed]",
      "text/plain": [
       "<Figure size 432x288 with 1 Axes>"
      ]
     },
     "metadata": {},
     "output_type": "display_data"
    }
   ],
   "source": [
    "bars = ('male', 'female')\n",
    "y_pos = np.arange(len(bars))\n",
    "plt.bar(y_pos, genders_drunk, color=['orange', 'blue'])\n",
    "plt.xticks(y_pos, bars)\n",
    "plt.show()"
   ]
  },
  {
   "cell_type": "markdown",
   "metadata": {},
   "source": [
    "# INTOXICATES\n",
    "#### Int per step\n",
    "#### Percentage of fights per gender\n",
    "#### Percentage of fights per age"
   ]
  },
  {
   "cell_type": "code",
   "execution_count": 17,
   "metadata": {},
   "outputs": [
    {
     "name": "stdout",
     "output_type": "stream",
     "text": [
      "[0, 0, 0, 0, 0, 0, 0, 0, 0, 0, 0, 0, 0, 0, 0, 0, 0, 0, 0, 0, 0, 0, 0, 0, 0, 0, 0, 0, 0, 0, 0, 0, 0, 0, 0, 0, 0, 0]\n"
     ]
    }
   ],
   "source": [
    "intoxicates_step = []\n",
    "\n",
    "for index, row in data_intoxicate.iterrows():\n",
    "    n=0\n",
    "    for column in data_intoxicate:\n",
    "        \n",
    "        if row[column] == 'True':\n",
    "            n+=1\n",
    "    \n",
    "    intoxicates_step.insert(index,int(n))\n",
    "    \n",
    "\n",
    "for inte in range(len(intoxicates_step),38):\n",
    "    intoxicates_step.insert(inte, intoxicates_step[len(intoxicates_step)-1])\n",
    "\n",
    "num_intoxicates = intoxicates_step[37]\n",
    "\n",
    "print(intoxicates_step)\n"
   ]
  },
  {
   "cell_type": "code",
   "execution_count": 18,
   "metadata": {},
   "outputs": [],
   "source": [
    "intoxicates_step_df = pd.DataFrame(intoxicates_step, columns = ['Num_intoxicates']) "
   ]
  },
  {
   "cell_type": "code",
   "execution_count": 19,
   "metadata": {},
   "outputs": [
    {
     "data": {
      "image/png": "[encoded data removed]",
      "text/plain": [
       "<Figure size 1440x576 with 1 Axes>"
      ]
     },
     "metadata": {},
     "output_type": "display_data"
    },
    {
     "data": {
      "text/plain": [
       "<Figure size 432x288 with 0 Axes>"
      ]
     },
     "metadata": {},
     "output_type": "display_data"
    }
   ],
   "source": [
    "fig = intoxicates_step_df.plot(figsize=[20,8], grid=True)\n",
    "major_ticks_x = np.arange(0, 38, 1)\n",
    "major_ticks_y = np.arange(0, num_intoxicates+2, 2)\n",
    "fig.set_xticks(major_ticks_x)\n",
    "fig.set_yticks(major_ticks_y)\n",
    "fig = plt.figure()"
   ]
  },
  {
   "cell_type": "code",
   "execution_count": 20,
   "metadata": {},
   "outputs": [
    {
     "ename": "ZeroDivisionError",
     "evalue": "division by zero",
     "output_type": "error",
     "traceback": [
      "\u001b[0;31m---------------------------------------------------------------------------\u001b[0m",
      "\u001b[0;31mZeroDivisionError\u001b[0m                         Traceback (most recent call last)",
      "\u001b[0;32m<ipython-input-20-67b7cd31d541>\u001b[0m in \u001b[0;36m<module>\u001b[0;34m()\u001b[0m\n\u001b[1;32m     23\u001b[0m \u001b[0;34m\u001b[0m\u001b[0m\n\u001b[1;32m     24\u001b[0m \u001b[0;32mfor\u001b[0m \u001b[0mindex\u001b[0m \u001b[0;32min\u001b[0m \u001b[0mrange\u001b[0m\u001b[0;34m(\u001b[0m\u001b[0mlen\u001b[0m\u001b[0;34m(\u001b[0m\u001b[0mgenders_intoxicate\u001b[0m\u001b[0;34m)\u001b[0m\u001b[0;34m)\u001b[0m\u001b[0;34m:\u001b[0m\u001b[0;34m\u001b[0m\u001b[0m\n\u001b[0;32m---> 25\u001b[0;31m     \u001b[0mgenders_intoxicate\u001b[0m\u001b[0;34m[\u001b[0m\u001b[0mindex\u001b[0m\u001b[0;34m]\u001b[0m \u001b[0;34m=\u001b[0m \u001b[0mround\u001b[0m\u001b[0;34m(\u001b[0m\u001b[0;34m(\u001b[0m\u001b[0mgenders_intoxicate\u001b[0m\u001b[0;34m[\u001b[0m\u001b[0mindex\u001b[0m\u001b[0;34m]\u001b[0m\u001b[0;34m/\u001b[0m\u001b[0mtot\u001b[0m\u001b[0;34m)\u001b[0m\u001b[0;34m*\u001b[0m\u001b[0;36m100\u001b[0m\u001b[0;34m,\u001b[0m\u001b[0;36m2\u001b[0m\u001b[0;34m)\u001b[0m\u001b[0;34m\u001b[0m\u001b[0m\n\u001b[0m\u001b[1;32m     26\u001b[0m \u001b[0mprint\u001b[0m\u001b[0;34m(\u001b[0m\u001b[0mgenders_intoxicate\u001b[0m\u001b[0;34m)\u001b[0m\u001b[0;34m\u001b[0m\u001b[0m\n",
      "\u001b[0;31mZeroDivisionError\u001b[0m: division by zero"
     ]
    }
   ],
   "source": [
    "genders_step_0 = []\n",
    "genders_intoxicate = [0,0]\n",
    "\n",
    "for column in genders:\n",
    "    for index, row in genders.iterrows():\n",
    "        genders_step_0.append(row[column])\n",
    "        break\n",
    "        \n",
    "        \n",
    "for column in data_intoxicate:\n",
    "    for index, row in data_intoxicate.iterrows():\n",
    "        if row[column]=='True':\n",
    "            if genders_step_0[int(column)]=='male':\n",
    "                genders_intoxicate[0]=genders_intoxicate[0]+1\n",
    "            else:\n",
    "                genders_intoxicate[1]=genders_intoxicate[1]+1\n",
    "            break\n",
    "          \n",
    "tot = 0\n",
    "for index in range(len(genders_intoxicate)):\n",
    "    tot += genders_intoxicate[index]\n",
    "    \n",
    "\n",
    "for index in range(len(genders_intoxicate)):\n",
    "    genders_intoxicate[index] = round((genders_intoxicate[index]/tot)*100,2)\n",
    "print(genders_intoxicate)"
   ]
  },
  {
   "cell_type": "markdown",
   "metadata": {},
   "source": []
  },
  {
   "cell_type": "code",
   "execution_count": null,
   "metadata": {},
   "outputs": [],
   "source": [
    "ages_step_0 = []\n",
    "ages_intoxicate = [0,0,0]\n",
    "\n",
    "for column in ages:\n",
    "    for index, row in ages.iterrows():\n",
    "        ages_step_0.append(row[column])\n",
    "        break\n",
    " \n",
    "\n",
    "    \n",
    "\n",
    "for column in data_intoxicate:\n",
    "    for index, row in data_intoxicate.iterrows():\n",
    "        if row[column]=='1':\n",
    "            if ages_step_0[int(column)]=='15':\n",
    "                ages_intoxicate[0]=ages_intoxicate[0]+1\n",
    "            elif ages_step_0[int(column)]=='20':\n",
    "                ages_intoxicate[1]=ages_intoxicate[1]+1\n",
    "            else:\n",
    "                ages_intoxicate[2]=ages_intoxicate[2]+1\n",
    "         \n",
    "            break\n",
    "          \n",
    "            \n",
    "tot = 0\n",
    "for index in range(len(ages_intoxicate)):\n",
    "    tot += ages_intoxicate[index]\n",
    "    \n",
    "for index in range(len(ages_intoxicate)):\n",
    "    ages_intoxicate[index] = round((ages_intoxicate[index]/tot)*100,2)\n",
    "print(ages_intoxicate)\n"
   ]
  },
  {
   "cell_type": "code",
   "execution_count": null,
   "metadata": {},
   "outputs": [],
   "source": [
    "bars = ('15-19', '20-24', '25-30')\n",
    "y_pos = np.arange(len(bars))\n",
    "plt.bar(y_pos, ages_intoxicate, color=['red', 'blue', 'orange'])\n",
    "plt.xticks(y_pos, bars)\n",
    "plt.show()"
   ]
  },
  {
   "cell_type": "code",
   "execution_count": null,
   "metadata": {},
   "outputs": [],
   "source": [
    "bars = ('male', 'female')\n",
    "y_pos = np.arange(len(bars))\n",
    "plt.bar(y_pos, genders_intoxicate, color=['orange', 'blue'])\n",
    "plt.xticks(y_pos, bars)\n",
    "plt.show()"
   ]
  }
 ],
 "metadata": {
  "kernelspec": {
   "display_name": "Python 3",
   "language": "python",
   "name": "python3"
  },
  "language_info": {
   "codemirror_mode": {
    "name": "ipython",
    "version": 3
   },
   "file_extension": ".py",
   "mimetype": "text/x-python",
   "name": "python",
   "nbconvert_exporter": "python",
   "pygments_lexer": "ipython3",
   "version": "3.5.2"
  }
 },
 "nbformat": 4,
 "nbformat_minor": 2
}
